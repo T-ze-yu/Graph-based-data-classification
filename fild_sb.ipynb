{
 "cells": [
  {
   "cell_type": "code",
   "execution_count": 1,
   "metadata": {},
   "outputs": [
    {
     "name": "stderr",
     "output_type": "stream",
     "text": [
      "2023-05-15 11:17:31.932 | DEBUG    | text2vec.sentence_model:__init__:74 - Use device: cpu\n"
     ]
    }
   ],
   "source": [
    "from gldata_fx.mc_fx import split_english,get_fds,mcfy,get_schema\n",
    "from kwpb import kwpb\n",
    "from config_1 import Config\n",
    "import json\n",
    "kwpb = kwpb()"
   ]
  },
  {
   "cell_type": "code",
   "execution_count": 2,
   "metadata": {},
   "outputs": [],
   "source": [
    "with open(\"/home/tzy/Classification/datas/gl_dbs.json\", encoding='utf-8') as fp1:\n",
    "    a = json.load(fp1)\n",
    "with open(\"/home/tzy/Classification/datas/cihsy.json\", encoding='utf-8') as fp1:\n",
    "    cihsy = json.load(fp1)"
   ]
  },
  {
   "cell_type": "code",
   "execution_count": 3,
   "metadata": {},
   "outputs": [],
   "source": [
    "fds = list(set(get_fds(a)))"
   ]
  },
  {
   "cell_type": "code",
   "execution_count": 2,
   "metadata": {},
   "outputs": [],
   "source": [
    "cnf = Config()\n",
    "# dd = fds[:9]\n",
    "# dd"
   ]
  },
  {
   "cell_type": "code",
   "execution_count": 3,
   "metadata": {},
   "outputs": [
    {
     "name": "stderr",
     "output_type": "stream",
     "text": [
      "/home/tzy/Classification/kwpb.py:108: UserWarning: __floordiv__ is deprecated, and its behavior will change in a future version of pytorch. It currently rounds toward 0 (like the 'trunc' function NOT 'floor'). This results in incorrect rounding for negative values. To keep the current behavior, use torch.div(a, b, rounding_mode='trunc'), or for actual floor division, use torch.div(a, b, rounding_mode='floor').\n",
      "  left = left+((right-left)//(nn[right]-nn[left]))*(x-nn[left])+1\n"
     ]
    },
    {
     "data": {
      "text/plain": [
       "[('身份证号码', tensor(0.6226), 'sfzh', 'aaaaaaaaa'),\n",
       " ('密码', tensor(0.6899), 'pwd', 'sfd'),\n",
       " ('密码', tensor(0.6899), 'pwd', 'sfd'),\n",
       " ('身份证号码', tensor(0.7822), 'sfzh', 'jjdsfs')]"
      ]
     },
     "execution_count": 3,
     "metadata": {},
     "output_type": "execute_result"
    }
   ],
   "source": [
    "dd = [\n",
    "    {'field_name':'asdwq','field_description':'adsaaaaaaa。aaaaaaaaa'},\n",
    "    {'field_name':'sfd','field_description':''},\n",
    "    {'field_name':'sfd','field_description':'eeeeee'},\n",
    "    {'field_name':'auyksdwq','field_description':'eqrerrt。啊大师傅。jjdsfs'}\n",
    "    ]\n",
    "res = kwpb.get_res(cnf.mgkey_dic,dd)\n",
    "res #print(slys, indx, n1, v1, v2)"
   ]
  },
  {
   "cell_type": "code",
   "execution_count": 6,
   "metadata": {},
   "outputs": [],
   "source": [
    "for i in res:\n",
    "    if i[1]>0.9:\n",
    "        print(i)"
   ]
  },
  {
   "cell_type": "code",
   "execution_count": 4,
   "metadata": {},
   "outputs": [
    {
     "data": {
      "text/plain": [
       "tensor([[0.6899]])"
      ]
     },
     "execution_count": 4,
     "metadata": {},
     "output_type": "execute_result"
    }
   ],
   "source": [
    "ss = kwpb.sim_model.similarity(['pwd'], ['sfd'])\n",
    "ss"
   ]
  },
  {
   "cell_type": "code",
   "execution_count": 11,
   "metadata": {},
   "outputs": [
    {
     "data": {
      "text/plain": [
       "tensor([[0.4574, 0.3555, 0.4293],\n",
       "        [0.4176, 0.4584, 0.8097]])"
      ]
     },
     "execution_count": 11,
     "metadata": {},
     "output_type": "execute_result"
    }
   ],
   "source": [
    "ss = kwpb.sim_model.similarity(['MilitaryID','ew'], ['OperationFlag','sdfds','aas'])\n",
    "ss"
   ]
  },
  {
   "cell_type": "code",
   "execution_count": 13,
   "metadata": {},
   "outputs": [],
   "source": [
    "import torch\n",
    "sys,inx = torch.max(ss,1)"
   ]
  },
  {
   "cell_type": "code",
   "execution_count": 14,
   "metadata": {},
   "outputs": [
    {
     "data": {
      "text/plain": [
       "tensor([0, 2])"
      ]
     },
     "execution_count": 14,
     "metadata": {},
     "output_type": "execute_result"
    }
   ],
   "source": [
    "inx"
   ]
  }
 ],
 "metadata": {
  "kernelspec": {
   "display_name": "neo4j",
   "language": "python",
   "name": "python3"
  },
  "language_info": {
   "codemirror_mode": {
    "name": "ipython",
    "version": 3
   },
   "file_extension": ".py",
   "mimetype": "text/x-python",
   "name": "python",
   "nbconvert_exporter": "python",
   "pygments_lexer": "ipython3",
   "version": "3.8.10"
  },
  "orig_nbformat": 4
 },
 "nbformat": 4,
 "nbformat_minor": 2
}
