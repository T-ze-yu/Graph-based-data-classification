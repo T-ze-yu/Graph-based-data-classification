{
 "cells": [
  {
   "cell_type": "code",
   "execution_count": 2,
   "metadata": {},
   "outputs": [],
   "source": [
    "import json"
   ]
  },
  {
   "cell_type": "code",
   "execution_count": 11,
   "metadata": {},
   "outputs": [],
   "source": [
    "with open('/home/tzy/Classification/datas/cihsy.json', 'r') as f1:\n",
    "    dd = json.load(f1)\n",
    "for d in dd.values():\n",
    "    lb = d.split('、')\n",
    "    # print(lb)\n",
    "    if len(set(lb)) != len(lb):\n",
    "        print(d)"
   ]
  },
  {
   "cell_type": "code",
   "execution_count": 18,
   "metadata": {},
   "outputs": [
    {
     "data": {
      "text/plain": [
       "{'name': 'PatYBDiagnosis',\n",
       " 'description': None,\n",
       " 'field_5584': {'name': 'Xh', 'description': '数据类型：int'},\n",
       " 'field_5585': {'name': 'VisitXh', 'description': '数据类型：int'},\n",
       " 'field_5586': {'name': 'Icd10Id', 'description': '数据类型：varchar'},\n",
       " 'field_5587': {'name': 'YBIcd10Id', 'description': '数据类型：varchar'},\n",
       " 'field_5588': {'name': 'Memo', 'description': '数据类型：varchar'},\n",
       " 'field_5589': {'name': 'CreateStaffId', 'description': '数据类型：varchar'},\n",
       " 'field_5590': {'name': 'CreatDate', 'description': '数据类型：datetime2'},\n",
       " 'field_5591': {'name': 'ModifyStaffId', 'description': '数据类型：varchar'},\n",
       " 'field_5592': {'name': 'ModifyDate', 'description': '数据类型：datetime2'},\n",
       " 'TABLE_SCHEMA': '8'}"
      ]
     },
     "execution_count": 18,
     "metadata": {},
     "output_type": "execute_result"
    }
   ],
   "source": [
    "dd['dt']['db_0']['table_341']"
   ]
  },
  {
   "cell_type": "code",
   "execution_count": 22,
   "metadata": {},
   "outputs": [],
   "source": [
    "with open('../datas/commom.txt', 'r') as file:\n",
    "    lines = file.readlines()\n",
    "    tbid = 342\n",
    "    for line in lines:\n",
    "        # 去掉换行符\n",
    "        line = line.strip()\n",
    "        dd['dt']['db_0'].update({\n",
    "            'table_'+str(tbid):{\n",
    "            'name':line,\n",
    "            'description':None,\n",
    "            'TABLE_SCHEMA':'2'\n",
    "        }})\n",
    "        tbid+=1"
   ]
  },
  {
   "cell_type": "code",
   "execution_count": 26,
   "metadata": {},
   "outputs": [
    {
     "data": {
      "text/plain": [
       "{'name': 'MedicalRecordPostoperativeComplication',\n",
       " 'description': None,\n",
       " 'field_5573': {'name': 'Xh', 'description': '数据类型：int'},\n",
       " 'field_5574': {'name': 'FstpageXh', 'description': '数据类型：int'},\n",
       " 'field_5575': {'name': 'Icd10Id', 'description': '数据类型：varchar'},\n",
       " 'field_5576': {'name': 'Icd10Name', 'description': '数据类型：varchar'},\n",
       " 'field_5577': {'name': 'ICDFlag', 'description': '数据类型：smallint'},\n",
       " 'field_5578': {'name': 'SeqNo', 'description': '数据类型：smallint'},\n",
       " 'field_5579': {'name': 'ComplicationId', 'description': '数据类型：varchar'},\n",
       " 'field_5580': {'name': 'ComplicationName', 'description': '数据类型：varchar'},\n",
       " 'field_5581': {'name': 'StaffId', 'description': '数据类型：varchar'},\n",
       " 'field_5582': {'name': 'ModifyDate', 'description': '数据类型：datetime2'},\n",
       " 'field_5583': {'name': 'Memo', 'description': '数据类型：varchar'},\n",
       " 'TABLE_SCHEMA': '8'}"
      ]
     },
     "execution_count": 26,
     "metadata": {},
     "output_type": "execute_result"
    }
   ],
   "source": [
    "dd['dt']['db_0']['table_340']"
   ]
  },
  {
   "cell_type": "code",
   "execution_count": 3,
   "metadata": {},
   "outputs": [],
   "source": [
    "new_d = {key.lower(): value for key, value in dd.items()}"
   ]
  },
  {
   "cell_type": "code",
   "execution_count": 28,
   "metadata": {},
   "outputs": [],
   "source": [
    "with open('/home/tzy/Classification/datas/gl_dbs2.json', 'w' , encoding='utf-8') as f1:\n",
    "    dd = json.dump(dd,f1, ensure_ascii=False,indent=2)\n"
   ]
  }
 ],
 "metadata": {
  "kernelspec": {
   "display_name": "Python 3",
   "language": "python",
   "name": "python3"
  },
  "language_info": {
   "codemirror_mode": {
    "name": "ipython",
    "version": 3
   },
   "file_extension": ".py",
   "mimetype": "text/x-python",
   "name": "python",
   "nbconvert_exporter": "python",
   "pygments_lexer": "ipython3",
   "version": "3.8.10"
  },
  "orig_nbformat": 4
 },
 "nbformat": 4,
 "nbformat_minor": 2
}
